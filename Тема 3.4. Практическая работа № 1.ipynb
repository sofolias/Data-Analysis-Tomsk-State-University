{
 "cells": [
  {
   "cell_type": "markdown",
   "id": "69314756",
   "metadata": {},
   "source": [
    "# Практическая работа №1"
   ]
  },
  {
   "cell_type": "markdown",
   "id": "f5996e79",
   "metadata": {},
   "source": [
    "### Шаг 1. Создайте структуру данных, описывающую закрытую социальную сеть. Используйте списки и словари для установления взаимосвязей пользователей"
   ]
  },
  {
   "cell_type": "markdown",
   "id": "91df0207",
   "metadata": {},
   "source": [
    "<img src=\"Тема 3.4. Структура социальной сети.png\">"
   ]
  },
  {
   "cell_type": "markdown",
   "id": "0f2c5002",
   "metadata": {},
   "source": [
    "### Закрытая социальная сеть"
   ]
  },
  {
   "cell_type": "code",
   "execution_count": 1,
   "id": "50b0c3d4",
   "metadata": {},
   "outputs": [
    {
     "data": {
      "text/plain": [
       "list"
      ]
     },
     "execution_count": 1,
     "metadata": {},
     "output_type": "execute_result"
    }
   ],
   "source": [
    "# объявляем список пользователей\n",
    "users = [\n",
    "    {\"id\": 1, \"name\": \"Абрамов Иван\"},\n",
    "    {\"id\": 2, \"name\" : \"Кормченко Пётр\"},\n",
    "    {\"id\": 3, \"name\": \"Краморев Антон\"},\n",
    "    {\"id\": 4, \"name\": \"Шапиро Елена\"},\n",
    "    {\"id\": 5, \"name\": \"Якубовская Ирина\"},\n",
    "    {\"id\": 6, \"name\": \"Федорченко Виктор\"},\n",
    "    {\"id\": 7, \"name\": \"Егорченко Марина\"},\n",
    "    {\"id\": 8, \"name\": \"Луговских Татьяна\"},\n",
    "    {\"id\": 9, \"name\": \"Тихомирова Дарья\"},\n",
    "    {\"id\": 10, \"name\": \"Воскобойников Артём\"}\n",
    "    ]\n",
    "type(users)"
   ]
  },
  {
   "cell_type": "code",
   "execution_count": 2,
   "id": "8aae3fdb",
   "metadata": {
    "scrolled": true
   },
   "outputs": [
    {
     "data": {
      "text/plain": [
       "(list,\n",
       " [(1, 2),\n",
       "  (1, 5),\n",
       "  (2, 3),\n",
       "  (3, 4),\n",
       "  (3, 6),\n",
       "  (3, 8),\n",
       "  (3, 10),\n",
       "  (5, 7),\n",
       "  (5, 8),\n",
       "  (6, 8),\n",
       "  (6, 10),\n",
       "  (7, 8),\n",
       "  (7, 9),\n",
       "  (8, 9)])"
      ]
     },
     "execution_count": 2,
     "metadata": {},
     "output_type": "execute_result"
    }
   ],
   "source": [
    "# объявляем список дружественных связей\n",
    "friendship = [(1, 2), (1, 5), (2, 3), (3, 4), (3, 6), (3, 8), (3, 10), \n",
    "              (5, 7), (5, 8), (6, 8), (6, 10), (7,8), (7,9), (8,9) ]\n",
    "type(friendship), friendship"
   ]
  },
  {
   "cell_type": "code",
   "execution_count": 3,
   "id": "54803ead",
   "metadata": {},
   "outputs": [
    {
     "data": {
      "text/plain": [
       "(dict, {1: [], 2: [], 3: [], 4: [], 5: [], 6: [], 7: [], 8: [], 9: [], 10: []})"
      ]
     },
     "execution_count": 3,
     "metadata": {},
     "output_type": "execute_result"
    }
   ],
   "source": [
    "# создаём словарь с пустым списком, чтобы идентифицировать \n",
    "# каждого пользователя закрытой социальной сети\n",
    "list_of_friends = {user[\"id\"]: [] for user in users}\n",
    "type(list_of_friends), list_of_friends"
   ]
  },
  {
   "cell_type": "code",
   "execution_count": 4,
   "id": "59c28e59",
   "metadata": {},
   "outputs": [],
   "source": [
    "# установление взаимосвязи между пользователем и его другом\n",
    "for i, j in friendship:\n",
    "    list_of_friends[i].append(j) # Добавить j как друга для i\n",
    "    list_of_friends[j].append(i) # Добавить i как друга для j"
   ]
  },
  {
   "cell_type": "code",
   "execution_count": 5,
   "id": "cfc722e5",
   "metadata": {},
   "outputs": [
    {
     "data": {
      "text/plain": [
       "{1: [2, 5],\n",
       " 2: [1, 3],\n",
       " 3: [2, 4, 6, 8, 10],\n",
       " 4: [3],\n",
       " 5: [1, 7, 8],\n",
       " 6: [3, 8, 10],\n",
       " 7: [5, 8, 9],\n",
       " 8: [3, 5, 6, 7, 9],\n",
       " 9: [7, 8],\n",
       " 10: [3, 6]}"
      ]
     },
     "execution_count": 5,
     "metadata": {},
     "output_type": "execute_result"
    }
   ],
   "source": [
    "# выводим cписок друзей с установленными взаимосвязями\n",
    "list_of_friends"
   ]
  },
  {
   "cell_type": "code",
   "execution_count": 6,
   "id": "c80759e0",
   "metadata": {},
   "outputs": [
    {
     "data": {
      "text/plain": [
       "dict"
      ]
     },
     "execution_count": 6,
     "metadata": {},
     "output_type": "execute_result"
    }
   ],
   "source": [
    "type(list_of_friends)"
   ]
  },
  {
   "cell_type": "code",
   "execution_count": 7,
   "id": "ed89607f",
   "metadata": {},
   "outputs": [
    {
     "data": {
      "text/plain": [
       "dict_keys([1, 2, 3, 4, 5, 6, 7, 8, 9, 10])"
      ]
     },
     "execution_count": 7,
     "metadata": {},
     "output_type": "execute_result"
    }
   ],
   "source": [
    "dict.keys(list_of_friends)"
   ]
  },
  {
   "cell_type": "code",
   "execution_count": 8,
   "id": "b91f7d30",
   "metadata": {},
   "outputs": [
    {
     "data": {
      "text/plain": [
       "dict_values([[2, 5], [1, 3], [2, 4, 6, 8, 10], [3], [1, 7, 8], [3, 8, 10], [5, 8, 9], [3, 5, 6, 7, 9], [7, 8], [3, 6]])"
      ]
     },
     "execution_count": 8,
     "metadata": {},
     "output_type": "execute_result"
    }
   ],
   "source": [
    "dict.values(list_of_friends)"
   ]
  },
  {
   "cell_type": "markdown",
   "id": "bfea470f",
   "metadata": {},
   "source": [
    "### Шаг 2. Создайте функцию, определяющую количество друзей у выбранного пользователя"
   ]
  },
  {
   "cell_type": "code",
   "execution_count": 9,
   "id": "a83c8373",
   "metadata": {},
   "outputs": [],
   "source": [
    "# с помощью функции возвращаем количество друзей у выбранного пользователя, \n",
    "# то есть количество элементов из списка `friend_ids`\n",
    "def number_of_friends(users):\n",
    "    users_id = user[\"id\"]\n",
    "    friend_ids = list_of_friends[users_id]\n",
    "    return len(friend_ids)"
   ]
  },
  {
   "cell_type": "code",
   "execution_count": 10,
   "id": "f1422cb8",
   "metadata": {},
   "outputs": [
    {
     "data": {
      "text/plain": [
       "{'id': 3, 'name': 'Краморев Антон'}"
      ]
     },
     "execution_count": 10,
     "metadata": {},
     "output_type": "execute_result"
    }
   ],
   "source": [
    "# вывод id пользователя\n",
    "users[2]"
   ]
  },
  {
   "cell_type": "code",
   "execution_count": 11,
   "id": "926ec688",
   "metadata": {
    "scrolled": true
   },
   "outputs": [
    {
     "data": {
      "text/plain": [
       "5"
      ]
     },
     "execution_count": 11,
     "metadata": {},
     "output_type": "execute_result"
    }
   ],
   "source": [
    "# вывод количества друзей у пользователя\n",
    "len(list_of_friends[3])"
   ]
  },
  {
   "cell_type": "markdown",
   "id": "d99f44de",
   "metadata": {},
   "source": [
    "### Шаг 3. Создайте функцию, выводящую на экран пользователей, отсортированных по количеству друзей"
   ]
  },
  {
   "cell_type": "code",
   "execution_count": 12,
   "id": "7f91b91d",
   "metadata": {},
   "outputs": [
    {
     "data": {
      "text/plain": [
       "(dict,\n",
       " {'Абрамов Иван': 2,\n",
       "  'Кормченко Пётр': 2,\n",
       "  'Краморев Антон': 5,\n",
       "  'Шапиро Елена': 1,\n",
       "  'Якубовская Ирина': 3,\n",
       "  'Федорченко Виктор': 3,\n",
       "  'Егорченко Марина': 3,\n",
       "  'Луговских Татьяна': 5,\n",
       "  'Тихомирова Дарья': 2,\n",
       "  'Воскобойников Артём': 2})"
      ]
     },
     "execution_count": 12,
     "metadata": {},
     "output_type": "execute_result"
    }
   ],
   "source": [
    "# объявляем соответствие пользователя и количества его друзей\n",
    "num_friends_by_name = {'Абрамов Иван': 2, 'Кормченко Пётр': 2, \n",
    "                       'Краморев Антон': 5, 'Шапиро Елена': 1, \n",
    "                       'Якубовская Ирина': 3, 'Федорченко Виктор': 3, \n",
    "                       'Егорченко Марина': 3, 'Луговских Татьяна': 5, \n",
    "                       'Тихомирова Дарья': 2, 'Воскобойников Артём': 2}\n",
    "type(num_friends_by_name), num_friends_by_name"
   ]
  },
  {
   "cell_type": "code",
   "execution_count": 13,
   "id": "b2864b03",
   "metadata": {},
   "outputs": [
    {
     "name": "stdout",
     "output_type": "stream",
     "text": [
      "Краморев Антон -- 5\n",
      "Луговских Татьяна -- 5\n",
      "Якубовская Ирина -- 3\n",
      "Федорченко Виктор -- 3\n",
      "Егорченко Марина -- 3\n",
      "Абрамов Иван -- 2\n",
      "Кормченко Пётр -- 2\n",
      "Тихомирова Дарья -- 2\n",
      "Воскобойников Артём -- 2\n",
      "Шапиро Елена -- 1\n"
     ]
    }
   ],
   "source": [
    "# применяем функцию сортировки в алфавитном порядке \n",
    "# и в порядке убывания количества друзей у пользователя\n",
    "for key, val in sorted(num_friends_by_name.items(), key=lambda x: x[1], \n",
    "                       reverse=True):\n",
    "    print(key, '--' , val)"
   ]
  }
 ],
 "metadata": {
  "kernelspec": {
   "display_name": "Python 3 (ipykernel)",
   "language": "python",
   "name": "python3"
  },
  "language_info": {
   "codemirror_mode": {
    "name": "ipython",
    "version": 3
   },
   "file_extension": ".py",
   "mimetype": "text/x-python",
   "name": "python",
   "nbconvert_exporter": "python",
   "pygments_lexer": "ipython3",
   "version": "3.11.7"
  }
 },
 "nbformat": 4,
 "nbformat_minor": 5
}
